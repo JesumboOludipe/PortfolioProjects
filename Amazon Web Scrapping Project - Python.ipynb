{
 "cells": [
  {
   "cell_type": "code",
   "execution_count": 1,
   "id": "658197c2",
   "metadata": {},
   "outputs": [],
   "source": [
    "#Amazon Web Scrapping\n",
    "\n",
    "#This project aims to collect data on a specific product, such as product name, price etc.\n",
    "#It can also be used as a price checker.\n",
    "\n",
    "#Import libraries \n",
    "\n",
    "from bs4 import BeautifulSoup\n",
    "import requests\n",
    "import time\n",
    "import datetime\n",
    "\n",
    "import smtplib\n",
    "\n"
   ]
  },
  {
   "cell_type": "code",
   "execution_count": 2,
   "id": "ae3fedd6",
   "metadata": {},
   "outputs": [
    {
     "name": "stdout",
     "output_type": "stream",
     "text": [
      "\n",
      "                   Funny Data Whisperer MIS Consulting Business Analyst T-Shirt T-Shirt\n",
      "                  \n",
      "\n",
      "                   17\n",
      "                   \n",
      "                    .\n",
      "                   \n",
      "\n"
     ]
    }
   ],
   "source": [
    "#Connect to Amazon Website and pull in data\n",
    "\n",
    "URL = 'https://www.amazon.co.uk/Data-MIS-Consulting-Business-Analyst/dp/B0B6GVGWDC/ref=sr_1_8?crid=WL7FN1QF5UU&keywords=business+analyst+tshirt&qid=1674769188&sprefix=business+analyst+t%2Caps%2C93&sr=8-8'\n",
    "\n",
    "headers = {\"User-Agent\": \"Mozilla/5.0 (Windows NT 10.0; Win64; x64; rv:109.0) Gecko/20100101 Firefox/109.0\",  \"Accept-Encoding\":\"gzip, deflate\", \"Accept\":\"text/html,application/xhtml+xml,application/xml;q=0.9,*/*;q=0.8\", \"DNT\":\"1\",\"Connection\":\"close\", \"Upgrade-Insecure-Requests\":\"1\"}\n",
    "\n",
    "page = requests.get(URL, headers=headers)\n",
    "\n",
    "soup1 = BeautifulSoup(page.content, \"html.parser\")\n",
    "\n",
    "soup2 = BeautifulSoup(soup1.prettify(), 'html.parser')\n",
    "\n",
    "title = soup2.find(id = 'productTitle').get_text()\n",
    "\n",
    "price = soup2.find(class_ = 'a-price-whole').get_text()     \n",
    "\n",
    "#price = soup2.find(class_ =\"a-section a-spacing-none aok-align-center\").get_text().strip()\n",
    "\n",
    "print(title)\n",
    "print(price)"
   ]
  },
  {
   "cell_type": "code",
   "execution_count": 3,
   "id": "3ee3b332",
   "metadata": {},
   "outputs": [
    {
     "name": "stdout",
     "output_type": "stream",
     "text": [
      "Funny Data Whisperer MIS Consulting Business Analyst T-Shirt T-Shirt\n",
      "17\n"
     ]
    }
   ],
   "source": [
    "#Clean data\n",
    "\n",
    "price = price.strip()[1&2:2] \n",
    "title = title.strip()\n",
    "\n",
    "print(title)\n",
    "print(price)\n"
   ]
  },
  {
   "cell_type": "code",
   "execution_count": 4,
   "id": "fb7363b7",
   "metadata": {},
   "outputs": [
    {
     "name": "stdout",
     "output_type": "stream",
     "text": [
      "2023-01-28\n"
     ]
    }
   ],
   "source": [
    "#Create a Timestamp for the output to track when data was collected\n",
    "\n",
    "import datetime\n",
    "\n",
    "today =datetime.date.today()\n",
    "\n",
    "print(today)"
   ]
  },
  {
   "cell_type": "code",
   "execution_count": 5,
   "id": "b3c38408",
   "metadata": {},
   "outputs": [],
   "source": [
    "#Creating CSV and writing headers and data into the file\n",
    "\n",
    "import csv\n",
    "\n",
    "header = ['Title', 'Price', 'Date']\n",
    "data = [title, price, today]\n",
    "\n",
    "#with open('AmazonWebScrapperDataset.csv', 'w', newline = '', encoding = 'UTF8') as f:\n",
    "    #writer = csv.writer(f)\n",
    "    #writer.writerow(header)\n",
    "    #writer.writerow(data)\n"
   ]
  },
  {
   "cell_type": "code",
   "execution_count": 6,
   "id": "833f0b22",
   "metadata": {},
   "outputs": [
    {
     "name": "stdout",
     "output_type": "stream",
     "text": [
      "                                               Title  Price        Date\n",
      "0  Funny Data Whisperer MIS Consulting Business A...     17  2023-01-28\n"
     ]
    }
   ],
   "source": [
    "#Viewing Results\n",
    "\n",
    "import pandas as pd\n",
    "\n",
    "df = pd.read_csv(r'C:\\Users\\Oludipe j\\AmazonWebScrapperDataset.csv')\n",
    "\n",
    "print(df)"
   ]
  },
  {
   "cell_type": "code",
   "execution_count": 8,
   "id": "73842f5b",
   "metadata": {},
   "outputs": [],
   "source": [
    "#Appending Data to CSV\n",
    "\n",
    "with open('AmazonWebScrapperDataset.csv', 'a+', newline = '', encoding = 'UTF8') as f:\n",
    "    writer = csv.writer(f)\n",
    "    writer.writerow(data)"
   ]
  },
  {
   "cell_type": "code",
   "execution_count": 9,
   "id": "7a8bcdcf",
   "metadata": {},
   "outputs": [
    {
     "name": "stdout",
     "output_type": "stream",
     "text": [
      "                                               Title  Price        Date\n",
      "0  Funny Data Whisperer MIS Consulting Business A...     17  2023-01-28\n",
      "1  Funny Data Whisperer MIS Consulting Business A...     17  2023-01-28\n",
      "2  Funny Data Whisperer MIS Consulting Business A...     17  2023-01-28\n"
     ]
    }
   ],
   "source": [
    "#Viewing Results\n",
    "\n",
    "import pandas as pd\n",
    "\n",
    "df = pd.read_csv(r'C:\\Users\\Oludipe j\\AmazonWebScrapperDataset.csv')\n",
    "\n",
    "print(df)"
   ]
  },
  {
   "cell_type": "code",
   "execution_count": 10,
   "id": "4a9580f5",
   "metadata": {},
   "outputs": [],
   "source": [
    "#Combining  all of the above code into one function\n",
    "\n",
    "def check_price():\n",
    "    URL = 'https://www.amazon.co.uk/Data-MIS-Consulting-Business-Analyst/dp/B0B6GVGWDC/ref=sr_1_8?crid=WL7FN1QF5UU&keywords=business+analyst+tshirt&qid=1674769188&sprefix=business+analyst+t%2Caps%2C93&sr=8-8'\n",
    "\n",
    "    headers = {\"User-Agent\": \"Mozilla/5.0 (Windows NT 10.0; Win64; x64; rv:109.0) Gecko/20100101 Firefox/109.0\",  \"Accept-Encoding\":\"gzip, deflate\", \"Accept\":\"text/html,application/xhtml+xml,application/xml;q=0.9,*/*;q=0.8\", \"DNT\":\"1\",\"Connection\":\"close\", \"Upgrade-Insecure-Requests\":\"1\"}\n",
    "\n",
    "    page = requests.get(URL, headers=headers)\n",
    "\n",
    "    soup1 = BeautifulSoup(page.content, \"html.parser\")\n",
    "\n",
    "    soup2 = BeautifulSoup(soup1.prettify(), 'html.parser')\n",
    "\n",
    "    title = soup2.find(id = 'productTitle').get_text()\n",
    "\n",
    "    price = soup2.find(class_ = 'a-price-whole').get_text()   \n",
    "    \n",
    "    price = price.strip()[1&2:2] \n",
    "    title = title.strip()\n",
    "    \n",
    "    import datetime\n",
    "\n",
    "    today =datetime.date.today()\n",
    "    \n",
    "    import csv\n",
    "\n",
    "    header = ['Title', 'Price', 'Date']\n",
    "    data = [title, price, today]\n",
    "\n",
    "    with open('AmazonWebScrapperDataset.csv', 'a+', newline = '', encoding = 'UTF8') as f:\n",
    "        writer = csv.writer(f)\n",
    "        writer.writerow(data)\n",
    "    "
   ]
  },
  {
   "cell_type": "code",
   "execution_count": 11,
   "id": "ef7f102a",
   "metadata": {},
   "outputs": [
    {
     "ename": "KeyboardInterrupt",
     "evalue": "",
     "output_type": "error",
     "traceback": [
      "\u001b[1;31m---------------------------------------------------------------------------\u001b[0m",
      "\u001b[1;31mKeyboardInterrupt\u001b[0m                         Traceback (most recent call last)",
      "Cell \u001b[1;32mIn[11], line 3\u001b[0m\n\u001b[0;32m      1\u001b[0m \u001b[38;5;28;01mwhile\u001b[39;00m(\u001b[38;5;28;01mTrue\u001b[39;00m):\n\u001b[0;32m      2\u001b[0m     check_price()\n\u001b[1;32m----> 3\u001b[0m     \u001b[43mtime\u001b[49m\u001b[38;5;241;43m.\u001b[39;49m\u001b[43msleep\u001b[49m\u001b[43m(\u001b[49m\u001b[38;5;241;43m5\u001b[39;49m\u001b[43m)\u001b[49m\n",
      "\u001b[1;31mKeyboardInterrupt\u001b[0m: "
     ]
    }
   ],
   "source": [
    "while(True):\n",
    "    check_price()\n",
    "    time.sleep(5)"
   ]
  },
  {
   "cell_type": "code",
   "execution_count": 12,
   "id": "65fa9d14",
   "metadata": {},
   "outputs": [
    {
     "name": "stdout",
     "output_type": "stream",
     "text": [
      "                                                Title  Price        Date\n",
      "0   Funny Data Whisperer MIS Consulting Business A...     17  2023-01-28\n",
      "1   Funny Data Whisperer MIS Consulting Business A...     17  2023-01-28\n",
      "2   Funny Data Whisperer MIS Consulting Business A...     17  2023-01-28\n",
      "3   Funny Data Whisperer MIS Consulting Business A...     17  2023-01-28\n",
      "4   Funny Data Whisperer MIS Consulting Business A...     17  2023-01-28\n",
      "5   Funny Data Whisperer MIS Consulting Business A...     17  2023-01-28\n",
      "6   Funny Data Whisperer MIS Consulting Business A...     17  2023-01-28\n",
      "7   Funny Data Whisperer MIS Consulting Business A...     17  2023-01-28\n",
      "8   Funny Data Whisperer MIS Consulting Business A...     17  2023-01-28\n",
      "9   Funny Data Whisperer MIS Consulting Business A...     17  2023-01-28\n",
      "10  Funny Data Whisperer MIS Consulting Business A...     17  2023-01-28\n",
      "11  Funny Data Whisperer MIS Consulting Business A...     17  2023-01-28\n",
      "12  Funny Data Whisperer MIS Consulting Business A...     17  2023-01-28\n",
      "13  Funny Data Whisperer MIS Consulting Business A...     17  2023-01-28\n",
      "14  Funny Data Whisperer MIS Consulting Business A...     17  2023-01-28\n",
      "15  Funny Data Whisperer MIS Consulting Business A...     17  2023-01-28\n",
      "16  Funny Data Whisperer MIS Consulting Business A...     17  2023-01-28\n",
      "17  Funny Data Whisperer MIS Consulting Business A...     17  2023-01-28\n"
     ]
    }
   ],
   "source": [
    "import pandas as pd\n",
    "\n",
    "df = pd.read_csv(r'C:\\Users\\Oludipe j\\AmazonWebScrapperDataset.csv')\n",
    "\n",
    "print(df)"
   ]
  },
  {
   "cell_type": "code",
   "execution_count": null,
   "id": "a9ff048c",
   "metadata": {},
   "outputs": [],
   "source": [
    "# To send a email when a price hits below a certain level\n",
    "\n",
    "def send_mail():\n",
    "    server = smtplib.SMTP_SSL('smtp.gmail.com',465)\n",
    "    server.ehlo()\n",
    "    #server.starttls()\n",
    "    server.ehlo()\n",
    "    server.login('oludipejeusmboj@gmail.com','xxxxxxxxxxxxxx')\n",
    "    \n",
    "    subject = \"The Shirt you want is below $15! Now is your chance to buy!\"\n",
    "    body = \"Jesumbo, This is the moment we have been waiting for. Now is your chance to pick up the shirt of your dreams. Don't mess it up! Link here: https://www.amazon.co.uk/Got-Data-MIS-Business-Analyst/dp/B09F319PK2/ref=sr_1_1?crid=247TF5J30WCWL&keywords=business+analyst+tshirt+got+data&qid=1674897954&sprefix=business+analyst+tshirt+got+data%2Caps%2C78&sr=8-1\"\n",
    "   \n",
    "    msg = f\"Subject: {subject}\\n\\n{body}\"\n",
    "    \n",
    "    server.sendmail(\n",
    "        'oludipejesumboj@gmail.com',\n",
    "        msg\n",
    "     \n",
    "    )"
   ]
  },
  {
   "cell_type": "code",
   "execution_count": null,
   "id": "ece29192",
   "metadata": {},
   "outputs": [],
   "source": []
  }
 ],
 "metadata": {
  "kernelspec": {
   "display_name": "Python 3 (ipykernel)",
   "language": "python",
   "name": "python3"
  },
  "language_info": {
   "codemirror_mode": {
    "name": "ipython",
    "version": 3
   },
   "file_extension": ".py",
   "mimetype": "text/x-python",
   "name": "python",
   "nbconvert_exporter": "python",
   "pygments_lexer": "ipython3",
   "version": "3.9.16"
  }
 },
 "nbformat": 4,
 "nbformat_minor": 5
}
